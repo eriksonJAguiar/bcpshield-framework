{
  "nbformat": 4,
  "nbformat_minor": 0,
  "metadata": {
    "colab": {
      "name": "differential-privacy-example.ipynb",
      "provenance": [],
      "collapsed_sections": []
    },
    "kernelspec": {
      "name": "python3",
      "display_name": "Python 3"
    }
  },
  "cells": [
    {
      "cell_type": "code",
      "metadata": {
        "id": "fmGk5O-Aq0a4",
        "colab_type": "code",
        "colab": {
          "base_uri": "https://localhost:8080/",
          "height": 71
        },
        "outputId": "704d13f9-a3c8-459c-d2d6-9d84c0efa7eb"
      },
      "source": [
        "import pandas as pd\n",
        "import numpy as np\n",
        "import random\n",
        "from sklearn import datasets\n",
        "import statistics\n",
        "import matplotlib.pyplot as plt\n",
        "import seaborn as sns\n",
        "import json\n",
        "from collections import Counter"
      ],
      "execution_count": 2,
      "outputs": []
    },
    {
      "cell_type": "code",
      "execution_count": 3,
      "metadata": {},
      "outputs": [],
      "source": [
        "def read_json(path):\n",
        "    data = None\n",
        "    with open(path) as json_file:\n",
        "        data = json.load(json_file)\n",
        "\n",
        "    return data"
      ]
    },
    {
      "cell_type": "code",
      "metadata": {
        "id": "D4PDsquarKAQ",
        "colab_type": "code",
        "colab": {}
      },
      "source": [
        "data = read_json(\"privacy-experiments/resultados/data-original-diff.json\")"
      ],
      "execution_count": 4,
      "outputs": []
    },
    {
      "cell_type": "code",
      "execution_count": 5,
      "metadata": {
        "colab_type": "text",
        "id": "VqDyAz2gtrm3"
      },
      "outputs": [
        {
          "output_type": "error",
          "ename": "SyntaxError",
          "evalue": "invalid syntax (<ipython-input-5-2e86be34251d>, line 1)",
          "traceback": [
            "\u001b[0;36m  File \u001b[0;32m\"<ipython-input-5-2e86be34251d>\"\u001b[0;36m, line \u001b[0;32m1\u001b[0m\n\u001b[0;31m    **Define o mecanismo laplaciano para Differential Privacy**\u001b[0m\n\u001b[0m    ^\u001b[0m\n\u001b[0;31mSyntaxError\u001b[0m\u001b[0;31m:\u001b[0m invalid syntax\n"
          ]
        }
      ],
      "source": [
        "**Define o mecanismo laplaciano para Differential Privacy**"
      ]
    },
    {
      "cell_type": "code",
      "metadata": {
        "id": "nNylPZUfrEFd",
        "colab_type": "code",
        "colab": {}
      },
      "source": [
        "def laplaceMechanism(x, epsilon, sensib):\n",
        "    x +=  np.random.laplace(0, (sensib/epsilon), 1)[0]\n",
        "    return x"
      ],
      "execution_count": 6,
      "outputs": []
    },
    {
      "cell_type": "markdown",
      "metadata": {
        "id": "VGyz5kuGt3DP",
        "colab_type": "text"
      },
      "source": [
        "**Define a consulta que será utilizada para Differential Privacy**"
      ]
    },
    {
      "cell_type": "code",
      "metadata": {
        "id": "STxAZaT6suS3",
        "colab_type": "code",
        "colab": {}
      },
      "source": [
        "def query(data_query):\n",
        "  return statistics.mean(data_query)"
      ],
      "execution_count": 7,
      "outputs": []
    },
    {
      "cell_type": "code",
      "execution_count": 8,
      "metadata": {},
      "outputs": [],
      "source": [
        "def query_categorical(data_query):\n",
        "    hist = dict()\n",
        "    hist_aux = dict()\n",
        "    for d in data_query:\n",
        "        aux = dict(Counter(d))\n",
        "        for k,v in zip(aux.keys(), aux.values()):\n",
        "            if not k in hist:\n",
        "                hist[k] = v\n",
        "            else:\n",
        "                hist[k] += v   \n",
        "    \n",
        "    return hist"
      ]
    },
    {
      "cell_type": "code",
      "execution_count": 20,
      "metadata": {},
      "outputs": [],
      "source": [
        "def get_attr(general_data, key):\n",
        "    values = list()\n",
        "    for dt in general_data:\n",
        "        dt = dict(dt)\n",
        "        values.append(dt[key])\n",
        "    \n",
        "    return values"
      ]
    },
    {
      "cell_type": "code",
      "execution_count": 21,
      "metadata": {},
      "outputs": [],
      "source": [
        "def get_values(general_data):\n",
        "    keys = ['PatientAge','PatientWeigth', 'PatientHeigth']\n",
        "    res = dict()\n",
        "    for k in keys:\n",
        "         res[k] = get_attr(general_data, k)\n",
        "\n",
        "    return res"
      ]
    },
    {
      "cell_type": "code",
      "metadata": {
        "id": "wXWamg-LtcDv",
        "colab_type": "code",
        "colab": {}
      },
      "source": [
        "def sensitivity(data):\n",
        "  tam = len(data)\n",
        "  dist = list()\n",
        "  for i in range(0,tam-2):\n",
        "    d1 = data.copy()\n",
        "    d2 = data.copy()\n",
        "    del d1[i]\n",
        "    del d2[i+1]\n",
        "\n",
        "    d = abs(query(d1) - query(d2))\n",
        "    dist.append(d)\n",
        "  \n",
        "  return(max(dist))"
      ],
      "execution_count": 22,
      "outputs": []
    },
    {
      "cell_type": "code",
      "execution_count": 27,
      "metadata": {},
      "outputs": [],
      "source": [
        "dt = get_values(data)\n",
        "epsilon = [0.0001, 0.001, 0.01, 0.2, 0.3, 0.4, 0.5, 0.6, 0.7, 0.8, 0.9, 1.0]\n",
        "for i in range(30):\n",
        "    e = 0.01\n",
        "    priv_final = []\n",
        "    for i in range(30):\n",
        "        priv_vals = dict()\n",
        "        for k, v in zip(dt.keys(),dt.values()):\n",
        "            senb = sensitivity(list(v))\n",
        "            res = laplaceMechanism(query(v), e, senb)\n",
        "            priv_vals[k] = res\n",
        "        \n",
        "        priv_final.append(priv_vals)\n",
        "    \n",
        "\n",
        "with open('./priv-diff-values/py-diff-priv-final.json', mode=\"a\", encoding=\"utf-8\") as f:\n",
        "        json.dump(priv_final, f, ensure_ascii=False, indent=4)\n",
        "        \n",
        "        \n",
        "new_dt = dict()\n",
        "for k, v in zip(dt.keys(),dt.values()):\n",
        "    new_dt[k] = statistics.mean(v)\n",
        "\n",
        "with open('py-diff-orginal.json', mode=\"a\", encoding=\"utf-8\") as f:\n",
        "            json.dump(new_dt, f, ensure_ascii=False, indent=4) "
      ]
    },
    {
      "cell_type": "markdown",
      "metadata": {
        "colab_type": "text",
        "id": "XI-aaMYx6HQl"
      },
      "source": [
        "**Aplica a privacidade nos dados selecionados**"
      ]
    },
    {
      "cell_type": "code",
      "metadata": {
        "id": "cNAeWJzW2bMu",
        "colab_type": "code",
        "colab": {}
      },
      "source": [
        "sns.distplot(dt, hist=False, kde=True, \n",
        "             bins=int(180/5), color = 'red', \n",
        "             hist_kws={'edgecolor':'black'},\n",
        "             kde_kws={'linewidth': 4},\n",
        "             label=\"Normal\")\n",
        "\n",
        "#plt.legend(prop={'size': 16}, title = 'DP')\n",
        "plt.title('Density Plot Differential Privacy Applied')\n",
        "plt.xlabel('petal length (cm)')\n",
        "plt.ylabel('Density')"
      ],
      "execution_count": 21,
      "outputs": [
        {
          "output_type": "error",
          "ename": "TypeError",
          "evalue": "float() argument must be a string or a number, not 'dict'",
          "traceback": [
            "\u001b[0;31m---------------------------------------------------------------------------\u001b[0m",
            "\u001b[0;31mTypeError\u001b[0m                                 Traceback (most recent call last)",
            "\u001b[0;32m<ipython-input-21-5146aea92b21>\u001b[0m in \u001b[0;36m<module>\u001b[0;34m\u001b[0m\n\u001b[0;32m----> 1\u001b[0;31m sns.distplot(dt, hist=False, kde=True, \n\u001b[0m\u001b[1;32m      2\u001b[0m              \u001b[0mbins\u001b[0m\u001b[0;34m=\u001b[0m\u001b[0mint\u001b[0m\u001b[0;34m(\u001b[0m\u001b[0;36m180\u001b[0m\u001b[0;34m/\u001b[0m\u001b[0;36m5\u001b[0m\u001b[0;34m)\u001b[0m\u001b[0;34m,\u001b[0m \u001b[0mcolor\u001b[0m \u001b[0;34m=\u001b[0m \u001b[0;34m'red'\u001b[0m\u001b[0;34m,\u001b[0m\u001b[0;34m\u001b[0m\u001b[0;34m\u001b[0m\u001b[0m\n\u001b[1;32m      3\u001b[0m              \u001b[0mhist_kws\u001b[0m\u001b[0;34m=\u001b[0m\u001b[0;34m{\u001b[0m\u001b[0;34m'edgecolor'\u001b[0m\u001b[0;34m:\u001b[0m\u001b[0;34m'black'\u001b[0m\u001b[0;34m}\u001b[0m\u001b[0;34m,\u001b[0m\u001b[0;34m\u001b[0m\u001b[0;34m\u001b[0m\u001b[0m\n\u001b[1;32m      4\u001b[0m              \u001b[0mkde_kws\u001b[0m\u001b[0;34m=\u001b[0m\u001b[0;34m{\u001b[0m\u001b[0;34m'linewidth'\u001b[0m\u001b[0;34m:\u001b[0m \u001b[0;36m4\u001b[0m\u001b[0;34m}\u001b[0m\u001b[0;34m,\u001b[0m\u001b[0;34m\u001b[0m\u001b[0;34m\u001b[0m\u001b[0m\n\u001b[1;32m      5\u001b[0m              label=\"Normal\")\n",
            "\u001b[0;32m/usr/local/lib/python3.8/site-packages/seaborn/distributions.py\u001b[0m in \u001b[0;36mdistplot\u001b[0;34m(a, bins, hist, kde, rug, fit, hist_kws, kde_kws, rug_kws, fit_kws, color, vertical, norm_hist, axlabel, label, ax)\u001b[0m\n\u001b[1;32m    175\u001b[0m \u001b[0;34m\u001b[0m\u001b[0m\n\u001b[1;32m    176\u001b[0m     \u001b[0;31m# Make a a 1-d float array\u001b[0m\u001b[0;34m\u001b[0m\u001b[0;34m\u001b[0m\u001b[0;34m\u001b[0m\u001b[0m\n\u001b[0;32m--> 177\u001b[0;31m     \u001b[0ma\u001b[0m \u001b[0;34m=\u001b[0m \u001b[0mnp\u001b[0m\u001b[0;34m.\u001b[0m\u001b[0masarray\u001b[0m\u001b[0;34m(\u001b[0m\u001b[0ma\u001b[0m\u001b[0;34m,\u001b[0m \u001b[0mnp\u001b[0m\u001b[0;34m.\u001b[0m\u001b[0mfloat\u001b[0m\u001b[0;34m)\u001b[0m\u001b[0;34m\u001b[0m\u001b[0;34m\u001b[0m\u001b[0m\n\u001b[0m\u001b[1;32m    178\u001b[0m     \u001b[0;32mif\u001b[0m \u001b[0ma\u001b[0m\u001b[0;34m.\u001b[0m\u001b[0mndim\u001b[0m \u001b[0;34m>\u001b[0m \u001b[0;36m1\u001b[0m\u001b[0;34m:\u001b[0m\u001b[0;34m\u001b[0m\u001b[0;34m\u001b[0m\u001b[0m\n\u001b[1;32m    179\u001b[0m         \u001b[0ma\u001b[0m \u001b[0;34m=\u001b[0m \u001b[0ma\u001b[0m\u001b[0;34m.\u001b[0m\u001b[0msqueeze\u001b[0m\u001b[0;34m(\u001b[0m\u001b[0;34m)\u001b[0m\u001b[0;34m\u001b[0m\u001b[0;34m\u001b[0m\u001b[0m\n",
            "\u001b[0;32m/usr/local/lib/python3.8/site-packages/numpy/core/_asarray.py\u001b[0m in \u001b[0;36masarray\u001b[0;34m(a, dtype, order)\u001b[0m\n\u001b[1;32m     81\u001b[0m \u001b[0;34m\u001b[0m\u001b[0m\n\u001b[1;32m     82\u001b[0m     \"\"\"\n\u001b[0;32m---> 83\u001b[0;31m     \u001b[0;32mreturn\u001b[0m \u001b[0marray\u001b[0m\u001b[0;34m(\u001b[0m\u001b[0ma\u001b[0m\u001b[0;34m,\u001b[0m \u001b[0mdtype\u001b[0m\u001b[0;34m,\u001b[0m \u001b[0mcopy\u001b[0m\u001b[0;34m=\u001b[0m\u001b[0;32mFalse\u001b[0m\u001b[0;34m,\u001b[0m \u001b[0morder\u001b[0m\u001b[0;34m=\u001b[0m\u001b[0morder\u001b[0m\u001b[0;34m)\u001b[0m\u001b[0;34m\u001b[0m\u001b[0;34m\u001b[0m\u001b[0m\n\u001b[0m\u001b[1;32m     84\u001b[0m \u001b[0;34m\u001b[0m\u001b[0m\n\u001b[1;32m     85\u001b[0m \u001b[0;34m\u001b[0m\u001b[0m\n",
            "\u001b[0;31mTypeError\u001b[0m: float() argument must be a string or a number, not 'dict'"
          ]
        }
      ]
    },
    {
      "cell_type": "code",
      "metadata": {
        "id": "wOjIEza37MT0",
        "colab_type": "code",
        "colab": {
          "base_uri": "https://localhost:8080/",
          "height": 282
        },
        "outputId": "dbdf81d4-cf23-44a8-8f94-f2434ff69957"
      },
      "source": [
        "val = np.random.laplace(0, (1/0.1), len(dt))\n",
        "sns.distplot(val, hist=False, kde=True, \n",
        "             bins=int(180/5), color = 'red', \n",
        "             hist_kws={'edgecolor':'black'},\n",
        "             kde_kws={'linewidth': 4},\n",
        "             label=\"Laplace\")"
      ],
      "execution_count": 68,
      "outputs": [
        {
          "output_type": "error",
          "ename": "NameError",
          "evalue": "name 'dt' is not defined",
          "traceback": [
            "\u001b[0;31m---------------------------------------------------------------------------\u001b[0m",
            "\u001b[0;31mNameError\u001b[0m                                 Traceback (most recent call last)",
            "\u001b[0;32m<ipython-input-68-4a672013fdca>\u001b[0m in \u001b[0;36m<module>\u001b[0;34m\u001b[0m\n\u001b[0;32m----> 1\u001b[0;31m \u001b[0mval\u001b[0m \u001b[0;34m=\u001b[0m \u001b[0mnp\u001b[0m\u001b[0;34m.\u001b[0m\u001b[0mrandom\u001b[0m\u001b[0;34m.\u001b[0m\u001b[0mlaplace\u001b[0m\u001b[0;34m(\u001b[0m\u001b[0;36m0\u001b[0m\u001b[0;34m,\u001b[0m \u001b[0;34m(\u001b[0m\u001b[0;36m1\u001b[0m\u001b[0;34m/\u001b[0m\u001b[0;36m0.1\u001b[0m\u001b[0;34m)\u001b[0m\u001b[0;34m,\u001b[0m \u001b[0mlen\u001b[0m\u001b[0;34m(\u001b[0m\u001b[0mdt\u001b[0m\u001b[0;34m)\u001b[0m\u001b[0;34m)\u001b[0m\u001b[0;34m\u001b[0m\u001b[0;34m\u001b[0m\u001b[0m\n\u001b[0m\u001b[1;32m      2\u001b[0m sns.distplot(val, hist=False, kde=True, \n\u001b[1;32m      3\u001b[0m              \u001b[0mbins\u001b[0m\u001b[0;34m=\u001b[0m\u001b[0mint\u001b[0m\u001b[0;34m(\u001b[0m\u001b[0;36m180\u001b[0m\u001b[0;34m/\u001b[0m\u001b[0;36m5\u001b[0m\u001b[0;34m)\u001b[0m\u001b[0;34m,\u001b[0m \u001b[0mcolor\u001b[0m \u001b[0;34m=\u001b[0m \u001b[0;34m'red'\u001b[0m\u001b[0;34m,\u001b[0m\u001b[0;34m\u001b[0m\u001b[0;34m\u001b[0m\u001b[0m\n\u001b[1;32m      4\u001b[0m              \u001b[0mhist_kws\u001b[0m\u001b[0;34m=\u001b[0m\u001b[0;34m{\u001b[0m\u001b[0;34m'edgecolor'\u001b[0m\u001b[0;34m:\u001b[0m\u001b[0;34m'black'\u001b[0m\u001b[0;34m}\u001b[0m\u001b[0;34m,\u001b[0m\u001b[0;34m\u001b[0m\u001b[0;34m\u001b[0m\u001b[0m\n\u001b[1;32m      5\u001b[0m              \u001b[0mkde_kws\u001b[0m\u001b[0;34m=\u001b[0m\u001b[0;34m{\u001b[0m\u001b[0;34m'linewidth'\u001b[0m\u001b[0;34m:\u001b[0m \u001b[0;36m4\u001b[0m\u001b[0;34m}\u001b[0m\u001b[0;34m,\u001b[0m\u001b[0;34m\u001b[0m\u001b[0;34m\u001b[0m\u001b[0m\n",
            "\u001b[0;31mNameError\u001b[0m: name 'dt' is not defined"
          ]
        }
      ]
    },
    {
      "cell_type": "code",
      "metadata": {
        "id": "58th34tih_6l",
        "colab_type": "code",
        "colab": {
          "base_uri": "https://localhost:8080/",
          "height": 312
        },
        "outputId": "48a4d4a2-fe1c-406f-879b-47a7d9cd3405"
      },
      "source": [
        "sns.distplot(priv_vals, hist=False, kde=True, \n",
        "             bins=int(180/5), color = 'darkblue', \n",
        "             hist_kws={'edgecolor':'black'},\n",
        "             kde_kws={'linewidth': 4},\n",
        "             label=\"Diff Priv\")\n",
        "\n",
        "sns.distplot(dt, hist=False, kde=True, \n",
        "             bins=int(180/5), color = 'red', \n",
        "             hist_kws={'edgecolor':'black'},\n",
        "             kde_kws={'linewidth': 4},\n",
        "             label=\"Normal\")"
      ],
      "execution_count": null,
      "outputs": [
        {
          "output_type": "execute_result",
          "data": {
            "text/plain": [
              "Text(0, 0.5, 'Density')"
            ]
          },
          "metadata": {
            "tags": []
          },
          "execution_count": 48
        },
        {
          "output_type": "display_data",
          "data": {
            "image/png": "[encoded data removed]",
            "text/plain": [
              "<Figure size 432x288 with 1 Axes>"
            ]
          },
          "metadata": {
            "tags": [],
            "needs_background": "light"
          }
        }
      ]
    }
  ]
}